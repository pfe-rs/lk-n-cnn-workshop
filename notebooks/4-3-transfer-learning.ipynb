{
 "cells": [
  {
   "cell_type": "markdown",
   "metadata": {},
   "source": [
    "# Увод и опис проблема\n",
    "\n",
    "У овој вежби ћемо научити како се већ истрениран модел на неком сету података може адаптирати на други сет података."
   ]
  },
  {
   "cell_type": "markdown",
   "metadata": {},
   "source": [
    "**У задацима попунити само део кода означен са 3 тарабе (###).**"
   ]
  },
  {
   "cell_type": "markdown",
   "metadata": {},
   "source": [
    "функцијa **image_loader** која учитава слику са задате локације **path**, трансформише копију слике из BGR (0-255) формата који користи OpenCV у RGB (0.0 - 1.0),а затим враћа **Tensor** слике."
   ]
  },
  {
   "cell_type": "code",
   "execution_count": null,
   "metadata": {},
   "outputs": [],
   "source": [
    "import torch\n",
    "import cv2\n",
    "import typing"
   ]
  },
  {
   "cell_type": "code",
   "execution_count": null,
   "metadata": {
    "scrolled": true
   },
   "outputs": [],
   "source": [
    "def image_loader(path: str) -> torch.Tensor:\n",
    "    image = (cv2.imread(path).astype(\"float32\") / 255.0)[:, :, ::-1].copy()\n",
    "    return torch.from_numpy(image.transpose(2, 0, 1))"
   ]
  },
  {
   "cell_type": "markdown",
   "metadata": {},
   "source": [
    "Имплементирати callable класе **RandomGamma**.\n",
    "<ul>\n",
    "    <li>RandomGamma - Ствара се са аргументом <em>random_gamma_delta</em>. Када се позове примењује гама филтер са вредношћу која има униформну расподелу у интервалу [1 - <em>random_gamma_delta</em> , 1 + <em>random_gamma_delta</em> ]</li>\n",
    "</ul>"
   ]
  },
  {
   "cell_type": "code",
   "execution_count": null,
   "metadata": {},
   "outputs": [],
   "source": [
    "import numpy as np\n",
    "class ClipImage():\n",
    "    def __call__(self, image):\n",
    "        return np.clip(image, 0.0, 1.0)\n",
    "\n",
    "    def __repr__(self):\n",
    "        return 'ClipImage()'\n",
    "\n",
    "class RandomGamma():\n",
    "    def __init__(self, random_gamma_delta):\n",
    "        self.gamma_range = 1.0 - random_gamma_delta, 1.0 + random_gamma_delta\n",
    "\n",
    "    def __call__(self, image):\n",
    "        # vraca sliku podignutu na stepen gama, koji se uniformno sempluje iz intervala self.gamma_range\n",
    "        return \n",
    "\n",
    "    def __repr__(self):\n",
    "        return 'RandomGamma('+str(self.gamma_range)+')'"
   ]
  },
  {
   "cell_type": "code",
   "execution_count": null,
   "metadata": {},
   "outputs": [],
   "source": [
    "def getRandomGamma(randaom_gamma_delta : float) -> torch.Tensor:\n",
    "    return RandomGamma(randaom_gamma_delta)\n",
    "\n",
    "def getClipImage() -> torch.Tensor:\n",
    "    return ClipImage()"
   ]
  },
  {
   "cell_type": "code",
   "execution_count": null,
   "metadata": {},
   "outputs": [],
   "source": [
    "import torchvision"
   ]
  },
  {
   "cell_type": "code",
   "execution_count": null,
   "metadata": {},
   "outputs": [],
   "source": [
    "def compose_transforms():\n",
    "    return torchvision.transforms.Compose([\n",
    "    RandomGamma(0.3),\n",
    "    ClipImage(),\n",
    "    torchvision.transforms.ToPILImage(),\n",
    "    torchvision.transforms.Resize(224),\n",
    "    torchvision.transforms.RandomHorizontalFlip(),\n",
    "    torchvision.transforms.RandomVerticalFlip(),\n",
    "    torchvision.transforms.ToTensor(),\n",
    "    torchvision.transforms.Normalize([0.485, 0.456, 0.406],[0.229, 0.224, 0.225])\n",
    "])\n"
   ]
  },
  {
   "cell_type": "markdown",
   "metadata": {},
   "source": [
    "Даље, учитавамо сет података."
   ]
  },
  {
   "cell_type": "code",
   "execution_count": null,
   "metadata": {},
   "outputs": [],
   "source": [
    "dataset_path = 'dataset/EuroSAT/2750'\n",
    "dataset = torchvision.datasets.DatasetFolder(root=dataset_path, loader=image_loader, transform=compose_transforms(), extensions=\"jpg\")"
   ]
  },
  {
   "cell_type": "code",
   "execution_count": null,
   "metadata": {},
   "outputs": [],
   "source": [
    "def split_data(ratios : list, dataset: torch.utils.data.DataLoader) -> list:\n",
    "    DATASET_SEED = 12345\n",
    "    torch_generator = torch.Generator().manual_seed(DATASET_SEED)\n",
    "    dataset_size = len(dataset)\n",
    "    sizes = [int(len(dataset) * ratio) for ratio in ratios[:-1]]\n",
    "    sizes.append(len(dataset)-sum(sizes))\n",
    "    return torch.utils.data.random_split(\n",
    "        dataset, \n",
    "        sizes, \n",
    "        generator=torch.Generator().manual_seed(DATASET_SEED))"
   ]
  },
  {
   "cell_type": "code",
   "execution_count": null,
   "metadata": {},
   "outputs": [],
   "source": [
    "train_dataset, val_dataset, test_dataset = split_data([0.7, 0.15, 0.15], dataset)"
   ]
  },
  {
   "cell_type": "code",
   "execution_count": null,
   "metadata": {},
   "outputs": [],
   "source": [
    "def getDataLoader(dataset : torch.utils.data.Dataset , batch_size : int) -> torch.utils.data.DataLoader:\n",
    "    return torch.utils.data.DataLoader(\n",
    "        dataset, \n",
    "        batch_size=batch_size, \n",
    "        shuffle=True, \n",
    "        num_workers=2, \n",
    "        drop_last=True, \n",
    "        pin_memory=True)"
   ]
  },
  {
   "cell_type": "code",
   "execution_count": null,
   "metadata": {},
   "outputs": [],
   "source": [
    "BATCH_SIZE = 32\n",
    "\n",
    "train_loader = getDataLoader(train_dataset, BATCH_SIZE)\n",
    "val_loader = getDataLoader(val_dataset, BATCH_SIZE)"
   ]
  },
  {
   "cell_type": "markdown",
   "metadata": {},
   "source": [
    "Допунити следећу ћелију!"
   ]
  },
  {
   "cell_type": "code",
   "execution_count": null,
   "metadata": {},
   "outputs": [],
   "source": [
    "from torch import nn\n",
    "\n",
    "def get_transfer_learning_model():\n",
    "    model = torchvision.models.resnet50(pretrained=True)\n",
    "    num_features = model.fc.in_features\n",
    "    # implementirati poslednji sloj ResNet50 modela da radi sa nas custom dataset\n",
    "    model.fc = \n",
    "    return model"
   ]
  },
  {
   "cell_type": "markdown",
   "metadata": {},
   "source": [
    "Даље, пребацујемо мрежу на Графичку картицу због бржег тренирања."
   ]
  },
  {
   "cell_type": "code",
   "execution_count": null,
   "metadata": {},
   "outputs": [],
   "source": [
    "device = torch.device(\"cuda:0\" if torch.cuda.is_available() else \"cpu\")\n",
    "net = get_transfer_learning_model()\n",
    "net.to(device)"
   ]
  },
  {
   "cell_type": "markdown",
   "metadata": {},
   "source": [
    "Допунити код испод тако да критеријум буде **Cross Entropy Loss**, а да оптимизатор буде **Stohastic Gradient Descent** са **learning rate = 0.001**, a **momentum = 0.9**"
   ]
  },
  {
   "cell_type": "code",
   "execution_count": null,
   "metadata": {},
   "outputs": [],
   "source": [
    "###\n",
    "criterion = \n",
    "optimizer = "
   ]
  },
  {
   "cell_type": "code",
   "execution_count": null,
   "metadata": {},
   "outputs": [],
   "source": [
    "from sklearn.metrics import accuracy_score\n",
    "\n",
    "def measure_quality(model : nn.Sequential, loader : torch.utils.data.DataLoader, device : any, max_batches: int=None) -> float:\n",
    "    model.eval()\n",
    "    iteration_cnt = 0\n",
    "\n",
    "    all_preds = list()\n",
    "    all_labels = list()\n",
    "\n",
    "    with torch.no_grad():\n",
    "        for i, data in enumerate(loader):\n",
    "            if max_batches is not None and iteration_cnt == max_batches:\n",
    "                break\n",
    "\n",
    "            inputs, labels = data[0].to(device), data[1].to(device)\n",
    "\n",
    "            outputs = model(inputs)\n",
    "            _, pred = torch.max(outputs, 1)\n",
    "\n",
    "            all_preds += list(pred.data.cpu().numpy())\n",
    "            all_labels += list(labels.data.cpu().numpy())\n",
    "\n",
    "            iteration_cnt += 1\n",
    "\n",
    "    model.train()\n",
    "\n",
    "    return accuracy_score(all_labels, all_preds)"
   ]
  },
  {
   "cell_type": "code",
   "execution_count": null,
   "metadata": {},
   "outputs": [],
   "source": [
    "for epoch in range(5):  # loop over the dataset multiple times\n",
    "\n",
    "    running_loss = 0.0\n",
    "    for i, data in enumerate(train_loader):\n",
    "        # get the inputs; data is a list of [inputs, labels]\n",
    "        inputs, labels = data[0].to(device), data[1].to(device)\n",
    "\n",
    "        # zero the parameter gradients\n",
    "        optimizer.zero_grad()\n",
    "\n",
    "        # forward + backward + optimize\n",
    "        outputs = net(inputs)\n",
    "        loss = criterion(outputs, labels)\n",
    "        loss.backward()\n",
    "        optimizer.step()\n",
    "\n",
    "        # print statistics\n",
    "        running_loss += loss.item()\n",
    "        if i % 100 == 99:    # print every 100 mini-batches\n",
    "            val_accuracy = measure_quality(net, val_loader, device)\n",
    "            print(f\"epoch {epoch + 1} iter {i + 1} loss: {running_loss / 100} val accuracy: {val_accuracy}\")\n",
    "            running_loss = 0.0\n",
    "\n",
    "print('Finished Training')"
   ]
  },
  {
   "cell_type": "code",
   "execution_count": null,
   "metadata": {},
   "outputs": [],
   "source": [
    "torch.save(net.state_dict(), 'results/resnet_50_land_use.pt')"
   ]
  }
 ],
 "metadata": {
  "interpreter": {
   "hash": "2be40f01bef35c32ba7ed15dbe4dbfedb1adaa6300f561f1d7b2ba04ed3392b7"
  },
  "kernelspec": {
   "display_name": "Python 3 (ipykernel)",
   "language": "python",
   "name": "python3"
  },
  "language_info": {
   "codemirror_mode": {
    "name": "ipython",
    "version": 3
   },
   "file_extension": ".py",
   "mimetype": "text/x-python",
   "name": "python",
   "nbconvert_exporter": "python",
   "pygments_lexer": "ipython3",
   "version": "3.11.5"
  }
 },
 "nbformat": 4,
 "nbformat_minor": 4
}
